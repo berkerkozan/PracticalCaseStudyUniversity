{
 "cells": [
  {
   "cell_type": "markdown",
   "metadata": {},
   "source": [
    "# MNIST Handwritten Digit Recognition\n",
    "\n",
    "MNIST database consists of hand-written digits of $28\\times 28$ pixels. The images are centered and scaled. The background is black and digits are white.\n",
    "\n",
    "In our data, we use 32000 images for training and 10000 images for testing.\n",
    "\n",
    "We first import packages and basic parameters."
   ]
  },
  {
   "cell_type": "code",
   "execution_count": 12,
   "metadata": {
    "collapsed": false
   },
   "outputs": [],
   "source": [
    "%matplotlib inline\n",
    "import pandas as pd\n",
    "import numpy as np\n",
    "import time as time\n",
    "from skimage.io import imread, imshow, show, imsave\n",
    "import matplotlib.pyplot as plt\n",
    "\n",
    "picture_size = 28"
   ]
  },
  {
   "cell_type": "markdown",
   "metadata": {},
   "source": [
    "We now read data. Data for training is in 'train' folder, and data for testing is in 'test' folder. In an application such as character recognition, we can use grayscale images. Each pixel has a value between 0 and 1 or between 0 and 255 (as it is the case here). A value of 0 corresponds to a black pixel and a value of 255 corresponds to a white pixel.\n",
    "\n",
    "Images in the problem data are $28 \\times 28$ pixels. When using these images we have to reshape them into $1 \\times 784$ features, each representing a pixel. To plot the characters we have to transform the data into a $28 \\times 28$ pixel matrix. \n",
    "\n",
    "In order to understand reading and reshaping data, you can use the code below.\n",
    "\n",
    "In addition to that labels are also provided in the data set."
   ]
  },
  {
   "cell_type": "code",
   "execution_count": 13,
   "metadata": {
    "collapsed": false
   },
   "outputs": [
    {
     "name": "stdout",
     "output_type": "stream",
     "text": [
      "pixel_132    188.0\n",
      "pixel_133    255.0\n",
      "pixel_134     94.0\n",
      "pixel_159    191.0\n",
      "pixel_160    250.0\n",
      "pixel_161    253.0\n",
      "pixel_162     93.0\n",
      "pixel_186    123.0\n",
      "pixel_187    248.0\n",
      "pixel_188    253.0\n",
      "pixel_189    167.0\n",
      "pixel_190     10.0\n",
      "pixel_213     80.0\n",
      "pixel_214    247.0\n",
      "pixel_215    253.0\n",
      "pixel_216    208.0\n",
      "pixel_217     13.0\n",
      "pixel_240     29.0\n",
      "pixel_241    207.0\n",
      "pixel_242    253.0\n",
      "pixel_243    235.0\n",
      "pixel_244     77.0\n",
      "pixel_267     54.0\n",
      "pixel_268    209.0\n",
      "pixel_269    253.0\n",
      "pixel_270    253.0\n",
      "pixel_271     88.0\n",
      "pixel_294     93.0\n",
      "pixel_295    254.0\n",
      "pixel_296    253.0\n",
      "             ...  \n",
      "pixel_487    253.0\n",
      "pixel_488    245.0\n",
      "pixel_489     93.0\n",
      "pixel_513    103.0\n",
      "pixel_514    253.0\n",
      "pixel_515    253.0\n",
      "pixel_516    191.0\n",
      "pixel_540     89.0\n",
      "pixel_541    240.0\n",
      "pixel_542    253.0\n",
      "pixel_543    195.0\n",
      "pixel_544     25.0\n",
      "pixel_567     15.0\n",
      "pixel_568    220.0\n",
      "pixel_569    253.0\n",
      "pixel_570    253.0\n",
      "pixel_571     80.0\n",
      "pixel_595     94.0\n",
      "pixel_596    253.0\n",
      "pixel_597    253.0\n",
      "pixel_598    253.0\n",
      "pixel_599     94.0\n",
      "pixel_623     89.0\n",
      "pixel_624    251.0\n",
      "pixel_625    253.0\n",
      "pixel_626    250.0\n",
      "pixel_627    131.0\n",
      "pixel_652    214.0\n",
      "pixel_653    218.0\n",
      "pixel_654     95.0\n",
      "Name: 0, dtype: float64\n"
     ]
    },
    {
     "data": {
      "image/png": "[encoded data removed]",
      "text/plain": [
       "<matplotlib.figure.Figure at 0xb3bb470>"
      ]
     },
     "metadata": {},
     "output_type": "display_data"
    }
   ],
   "source": [
    "df_train = np.zeros((1, picture_size*picture_size))\n",
    "\n",
    "img = imread('train/0.png', as_grey=True)\n",
    "img = np.reshape(img, (1,picture_size*picture_size))\n",
    "df_train[0,:]=img\n",
    "\n",
    "df_train=pd.DataFrame(df_train)\n",
    "df_train.columns = ['pixel_' + str(i) for i in range(picture_size*picture_size)]\n",
    "print df_train.iloc[0,:][df_train.iloc[0,:] >0]\n",
    "\n",
    "\n",
    "img = df_train.iloc[0,:]\n",
    "img = np.reshape(img,(picture_size,picture_size))\n",
    "imshow(img/255)\n",
    "show()"
   ]
  },
  {
   "cell_type": "markdown",
   "metadata": {},
   "source": [
    "We use Random Forest and Feature Reduction in to make our predictions."
   ]
  },
  {
   "cell_type": "markdown",
   "metadata": {},
   "source": [
    "# Part I\n",
    "\n",
    "Use supervised learning for predicting characters.\n",
    "\n",
    "1. Select a supervised learning model\n",
    "2. Use training data for training your model\n",
    "3. Test your model on testing data\n",
    "4. Display your results (accuracy and confusion matrix)\n",
    "5. Report on feature importances, display the important features on a picture such as a heatmap\n",
    "\n",
    "You can use Random Forests, AdaBoost, Gradient Boosting, or Logistic Regression."
   ]
  },
  {
   "cell_type": "markdown",
   "metadata": {},
   "source": [
    "# Part II\n",
    "\n",
    "Use unsupervised learning by combining it with supervised learning for predicting characters.\n",
    "\n",
    "1. Select an unsupervised learning model. You can use either Principal Component Analysis (sklearn.decomposition.PCA) or Gaussian Mixture Model (sklearn.mixture.GMM) \n",
    "2. Use training data for training your model. Note that you also have to choose the number of components. \n",
    "    * For PCA, you can select 2 components.\n",
    "    * For GMM, select a sufficiently large number (more than 10 as we have 10 classes from 0 to 9, I suggest 50)\n",
    "3. Display your results. \n",
    "    * If you are using PCA, draw a scatter plot with each digit in different color.\n",
    "    * If you are using GMM, you can draw some of the components as pictures. \n",
    "4. Use your result from previous part in a supervised model. Your new input is coordinates of components (for PCA) and probabilities of belonging to components (for GMM)\n",
    "5. Test your model on testing data\n",
    "6. Display your results (accuracy and confusion matrix)\n",
    "7. Compare your results"
   ]
  },
  {
   "cell_type": "markdown",
   "metadata": {
    "collapsed": false
   },
   "source": [
    "You will be graded by the coherence and quality of your responses. I will not consider the accuracy of your results in grading."
   ]
  },
  {
   "cell_type": "code",
   "execution_count": null,
   "metadata": {
    "collapsed": true
   },
   "outputs": [],
   "source": [
    ""
   ]
  }
 ],
 "metadata": {
  "kernelspec": {
   "display_name": "Python 2",
   "language": "python",
   "name": "python2"
  },
  "language_info": {
   "codemirror_mode": {
    "name": "ipython",
    "version": 2.0
   },
   "file_extension": ".py",
   "mimetype": "text/x-python",
   "name": "python",
   "nbconvert_exporter": "python",
   "pygments_lexer": "ipython2",
   "version": "2.7.11"
  }
 },
 "nbformat": 4,
 "nbformat_minor": 0
}