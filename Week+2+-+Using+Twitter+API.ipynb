{
 "cells": [
  {
   "cell_type": "markdown",
   "metadata": {},
   "source": [
    "# Using Twitter API\n",
    "\n",
    "In this course we are going to use tweepy (pip install tweepy) in order to use Twitter API via Python. Twitter has two types of APIs:\n",
    "\n",
    "1. Streaming API: Streaming API is used in order to listen to tweets in real time. You can for example fetch all tweets containing a certain word.\n",
    "2. Search API: Search API is used in order to search for older tweets. You can fetch tweets or followers of a user using search API. \n",
    "\n",
    "Here, we are going to **listen** the tweets containing words 'Hillary' and 'Trump' in order to carry sentiment analysis. To get more information on Twitter API and tweepy package, I recommend you to visit the following websites.\n",
    "\n",
    "https://marcobonzanini.com/2015/03/02/mining-twitter-data-with-python-part-1/\n",
    "\n",
    "http://www.sananalytics.com/lab/twitter-sentiment/\n",
    "\n",
    "To use Twitter API, you need to create a user.\n",
    "1. Create a Twitter account if you do not have an account (or do not want to use your account)\n",
    "2. Login to http://apps.twitter.com \n",
    "3. Click on \"Create New App\" and follow the instructions\n",
    "4. On \"Keys and Access Tokens\" generate keys and access tokens.\n",
    "\n",
    "You should enter the tokens and keys as below."
   ]
  },
  {
   "cell_type": "code",
   "execution_count": 13,
   "metadata": {
    "collapsed": false
   },
   "outputs": [],
   "source": [
    "#Import the necessary methods from tweepy library\n",
    "from tweepy.streaming import StreamListener\n",
    "from tweepy import OAuthHandler\n",
    "from tweepy import Stream\n",
    "\n",
    "#Variables that contains the user credentials to access Twitter API \n",
    "access_token = \"22783903-xlCuRfdqXvt7XJL6NEtmzPYesCXfqYlPk9gp905ZP\"\n",
    "access_token_secret = \"2Uy6FaBC7NUpAt0ujyq6agUwE5Olt87bs89sS30zCATqA\"\n",
    "consumer_key = \"tOe4LcFZPt5OSj637j0CxEENe\"\n",
    "consumer_secret = \"O4IfN0HfsmKZz1ykVmlAP5EqXboboh0nBZ9OC1f95yRIcxrDcY\""
   ]
  },
  {
   "cell_type": "markdown",
   "metadata": {},
   "source": [
    "Now it is time to create a stream listener. In our example, we are going to output tweets on a file called 'fetched_tweets_class.txt'. In the code below, variable **data** corresponds to the tweet together with its metadata."
   ]
  },
  {
   "cell_type": "code",
   "execution_count": 14,
   "metadata": {
    "collapsed": false
   },
   "outputs": [
    {
     "ename": "KeyboardInterrupt",
     "evalue": "",
     "output_type": "error",
     "traceback": [
      "\u001b[1;31m---------------------------------------------------------------------------\u001b[0m",
      "\u001b[1;31mKeyboardInterrupt\u001b[0m                         Traceback (most recent call last)",
      "\u001b[1;32m<ipython-input-14-4c2f990dba86>\u001b[0m in \u001b[0;36m<module>\u001b[1;34m()\u001b[0m\n\u001b[0;32m     20\u001b[0m \u001b[1;31m#This line filter Twitter Streams to capture data by the keywords: 'hillary', 'trump'\u001b[0m\u001b[1;33m\u001b[0m\u001b[1;33m\u001b[0m\u001b[0m\n\u001b[0;32m     21\u001b[0m \u001b[1;31m# For more information you can check: http://tweepy.readthedocs.io/en/v3.5.0/streaming_how_to.html\u001b[0m\u001b[1;33m\u001b[0m\u001b[1;33m\u001b[0m\u001b[0m\n\u001b[1;32m---> 22\u001b[1;33m \u001b[0mstream\u001b[0m\u001b[1;33m.\u001b[0m\u001b[0mfilter\u001b[0m\u001b[1;33m(\u001b[0m\u001b[0mtrack\u001b[0m\u001b[1;33m=\u001b[0m\u001b[1;33m[\u001b[0m\u001b[1;34m'hillary'\u001b[0m\u001b[1;33m,\u001b[0m \u001b[1;34m'trump'\u001b[0m\u001b[1;33m]\u001b[0m\u001b[1;33m)\u001b[0m\u001b[1;33m\u001b[0m\u001b[0m\n\u001b[0m",
      "\u001b[1;32mC:\\Users\\byuceoglu\\AppData\\Local\\Continuum\\Anaconda\\lib\\site-packages\\tweepy\\streaming.pyc\u001b[0m in \u001b[0;36mfilter\u001b[1;34m(self, follow, track, async, locations, stall_warnings, languages, encoding, filter_level)\u001b[0m\n\u001b[0;32m    443\u001b[0m         \u001b[0mself\u001b[0m\u001b[1;33m.\u001b[0m\u001b[0msession\u001b[0m\u001b[1;33m.\u001b[0m\u001b[0mparams\u001b[0m \u001b[1;33m=\u001b[0m \u001b[1;33m{\u001b[0m\u001b[1;34m'delimited'\u001b[0m\u001b[1;33m:\u001b[0m \u001b[1;34m'length'\u001b[0m\u001b[1;33m}\u001b[0m\u001b[1;33m\u001b[0m\u001b[0m\n\u001b[0;32m    444\u001b[0m         \u001b[0mself\u001b[0m\u001b[1;33m.\u001b[0m\u001b[0mhost\u001b[0m \u001b[1;33m=\u001b[0m \u001b[1;34m'stream.twitter.com'\u001b[0m\u001b[1;33m\u001b[0m\u001b[0m\n\u001b[1;32m--> 445\u001b[1;33m         \u001b[0mself\u001b[0m\u001b[1;33m.\u001b[0m\u001b[0m_start\u001b[0m\u001b[1;33m(\u001b[0m\u001b[0masync\u001b[0m\u001b[1;33m)\u001b[0m\u001b[1;33m\u001b[0m\u001b[0m\n\u001b[0m\u001b[0;32m    446\u001b[0m \u001b[1;33m\u001b[0m\u001b[0m\n\u001b[0;32m    447\u001b[0m     def sitestream(self, follow, stall_warnings=False,\n",
      "\u001b[1;32mC:\\Users\\byuceoglu\\AppData\\Local\\Continuum\\Anaconda\\lib\\site-packages\\tweepy\\streaming.pyc\u001b[0m in \u001b[0;36m_start\u001b[1;34m(self, async)\u001b[0m\n\u001b[0;32m    359\u001b[0m             \u001b[0mself\u001b[0m\u001b[1;33m.\u001b[0m\u001b[0m_thread\u001b[0m\u001b[1;33m.\u001b[0m\u001b[0mstart\u001b[0m\u001b[1;33m(\u001b[0m\u001b[1;33m)\u001b[0m\u001b[1;33m\u001b[0m\u001b[0m\n\u001b[0;32m    360\u001b[0m         \u001b[1;32melse\u001b[0m\u001b[1;33m:\u001b[0m\u001b[1;33m\u001b[0m\u001b[0m\n\u001b[1;32m--> 361\u001b[1;33m             \u001b[0mself\u001b[0m\u001b[1;33m.\u001b[0m\u001b[0m_run\u001b[0m\u001b[1;33m(\u001b[0m\u001b[1;33m)\u001b[0m\u001b[1;33m\u001b[0m\u001b[0m\n\u001b[0m\u001b[0;32m    362\u001b[0m \u001b[1;33m\u001b[0m\u001b[0m\n\u001b[0;32m    363\u001b[0m     \u001b[1;32mdef\u001b[0m \u001b[0mon_closed\u001b[0m\u001b[1;33m(\u001b[0m\u001b[0mself\u001b[0m\u001b[1;33m,\u001b[0m \u001b[0mresp\u001b[0m\u001b[1;33m)\u001b[0m\u001b[1;33m:\u001b[0m\u001b[1;33m\u001b[0m\u001b[0m\n",
      "\u001b[1;32mC:\\Users\\byuceoglu\\AppData\\Local\\Continuum\\Anaconda\\lib\\site-packages\\tweepy\\streaming.pyc\u001b[0m in \u001b[0;36m_run\u001b[1;34m(self)\u001b[0m\n\u001b[0;32m    261\u001b[0m                     \u001b[0mself\u001b[0m\u001b[1;33m.\u001b[0m\u001b[0msnooze_time\u001b[0m \u001b[1;33m=\u001b[0m \u001b[0mself\u001b[0m\u001b[1;33m.\u001b[0m\u001b[0msnooze_time_step\u001b[0m\u001b[1;33m\u001b[0m\u001b[0m\n\u001b[0;32m    262\u001b[0m                     \u001b[0mself\u001b[0m\u001b[1;33m.\u001b[0m\u001b[0mlistener\u001b[0m\u001b[1;33m.\u001b[0m\u001b[0mon_connect\u001b[0m\u001b[1;33m(\u001b[0m\u001b[1;33m)\u001b[0m\u001b[1;33m\u001b[0m\u001b[0m\n\u001b[1;32m--> 263\u001b[1;33m                     \u001b[0mself\u001b[0m\u001b[1;33m.\u001b[0m\u001b[0m_read_loop\u001b[0m\u001b[1;33m(\u001b[0m\u001b[0mresp\u001b[0m\u001b[1;33m)\u001b[0m\u001b[1;33m\u001b[0m\u001b[0m\n\u001b[0m\u001b[0;32m    264\u001b[0m             \u001b[1;32mexcept\u001b[0m \u001b[1;33m(\u001b[0m\u001b[0mTimeout\u001b[0m\u001b[1;33m,\u001b[0m \u001b[0mssl\u001b[0m\u001b[1;33m.\u001b[0m\u001b[0mSSLError\u001b[0m\u001b[1;33m)\u001b[0m \u001b[1;32mas\u001b[0m \u001b[0mexc\u001b[0m\u001b[1;33m:\u001b[0m\u001b[1;33m\u001b[0m\u001b[0m\n\u001b[0;32m    265\u001b[0m                 \u001b[1;31m# This is still necessary, as a SSLError can actually be\u001b[0m\u001b[1;33m\u001b[0m\u001b[1;33m\u001b[0m\u001b[0m\n",
      "\u001b[1;32mC:\\Users\\byuceoglu\\AppData\\Local\\Continuum\\Anaconda\\lib\\site-packages\\tweepy\\streaming.pyc\u001b[0m in \u001b[0;36m_read_loop\u001b[1;34m(self, resp)\u001b[0m\n\u001b[0;32m    311\u001b[0m             \u001b[0mlength\u001b[0m \u001b[1;33m=\u001b[0m \u001b[1;36m0\u001b[0m\u001b[1;33m\u001b[0m\u001b[0m\n\u001b[0;32m    312\u001b[0m             \u001b[1;32mwhile\u001b[0m \u001b[1;32mnot\u001b[0m \u001b[0mresp\u001b[0m\u001b[1;33m.\u001b[0m\u001b[0mraw\u001b[0m\u001b[1;33m.\u001b[0m\u001b[0mclosed\u001b[0m\u001b[1;33m:\u001b[0m\u001b[1;33m\u001b[0m\u001b[0m\n\u001b[1;32m--> 313\u001b[1;33m                 \u001b[0mline\u001b[0m \u001b[1;33m=\u001b[0m \u001b[0mbuf\u001b[0m\u001b[1;33m.\u001b[0m\u001b[0mread_line\u001b[0m\u001b[1;33m(\u001b[0m\u001b[1;33m)\u001b[0m\u001b[1;33m.\u001b[0m\u001b[0mstrip\u001b[0m\u001b[1;33m(\u001b[0m\u001b[1;33m)\u001b[0m\u001b[1;33m\u001b[0m\u001b[0m\n\u001b[0m\u001b[0;32m    314\u001b[0m                 \u001b[1;32mif\u001b[0m \u001b[1;32mnot\u001b[0m \u001b[0mline\u001b[0m\u001b[1;33m:\u001b[0m\u001b[1;33m\u001b[0m\u001b[0m\n\u001b[0;32m    315\u001b[0m                     \u001b[0mself\u001b[0m\u001b[1;33m.\u001b[0m\u001b[0mlistener\u001b[0m\u001b[1;33m.\u001b[0m\u001b[0mkeep_alive\u001b[0m\u001b[1;33m(\u001b[0m\u001b[1;33m)\u001b[0m  \u001b[1;31m# keep-alive new lines are expected\u001b[0m\u001b[1;33m\u001b[0m\u001b[0m\n",
      "\u001b[1;32mC:\\Users\\byuceoglu\\AppData\\Local\\Continuum\\Anaconda\\lib\\site-packages\\tweepy\\streaming.pyc\u001b[0m in \u001b[0;36mread_line\u001b[1;34m(self, sep)\u001b[0m\n\u001b[0;32m    177\u001b[0m             \u001b[1;32melse\u001b[0m\u001b[1;33m:\u001b[0m\u001b[1;33m\u001b[0m\u001b[0m\n\u001b[0;32m    178\u001b[0m                 \u001b[0mstart\u001b[0m \u001b[1;33m=\u001b[0m \u001b[0mlen\u001b[0m\u001b[1;33m(\u001b[0m\u001b[0mself\u001b[0m\u001b[1;33m.\u001b[0m\u001b[0m_buffer\u001b[0m\u001b[1;33m)\u001b[0m\u001b[1;33m\u001b[0m\u001b[0m\n\u001b[1;32m--> 179\u001b[1;33m             \u001b[0mself\u001b[0m\u001b[1;33m.\u001b[0m\u001b[0m_buffer\u001b[0m \u001b[1;33m+=\u001b[0m \u001b[0mself\u001b[0m\u001b[1;33m.\u001b[0m\u001b[0m_stream\u001b[0m\u001b[1;33m.\u001b[0m\u001b[0mread\u001b[0m\u001b[1;33m(\u001b[0m\u001b[0mself\u001b[0m\u001b[1;33m.\u001b[0m\u001b[0m_chunk_size\u001b[0m\u001b[1;33m)\u001b[0m\u001b[1;33m\u001b[0m\u001b[0m\n\u001b[0m\u001b[0;32m    180\u001b[0m \u001b[1;33m\u001b[0m\u001b[0m\n\u001b[0;32m    181\u001b[0m     \u001b[1;32mdef\u001b[0m \u001b[0m_pop\u001b[0m\u001b[1;33m(\u001b[0m\u001b[0mself\u001b[0m\u001b[1;33m,\u001b[0m \u001b[0mlength\u001b[0m\u001b[1;33m)\u001b[0m\u001b[1;33m:\u001b[0m\u001b[1;33m\u001b[0m\u001b[0m\n",
      "\u001b[1;32mC:\\Users\\byuceoglu\\AppData\\Local\\Continuum\\Anaconda\\lib\\site-packages\\requests\\packages\\urllib3\\response.pyc\u001b[0m in \u001b[0;36mread\u001b[1;34m(self, amt, decode_content, cache_content)\u001b[0m\n\u001b[0;32m    299\u001b[0m             \u001b[1;32melse\u001b[0m\u001b[1;33m:\u001b[0m\u001b[1;33m\u001b[0m\u001b[0m\n\u001b[0;32m    300\u001b[0m                 \u001b[0mcache_content\u001b[0m \u001b[1;33m=\u001b[0m \u001b[0mFalse\u001b[0m\u001b[1;33m\u001b[0m\u001b[0m\n\u001b[1;32m--> 301\u001b[1;33m                 \u001b[0mdata\u001b[0m \u001b[1;33m=\u001b[0m \u001b[0mself\u001b[0m\u001b[1;33m.\u001b[0m\u001b[0m_fp\u001b[0m\u001b[1;33m.\u001b[0m\u001b[0mread\u001b[0m\u001b[1;33m(\u001b[0m\u001b[0mamt\u001b[0m\u001b[1;33m)\u001b[0m\u001b[1;33m\u001b[0m\u001b[0m\n\u001b[0m\u001b[0;32m    302\u001b[0m                 \u001b[1;32mif\u001b[0m \u001b[0mamt\u001b[0m \u001b[1;33m!=\u001b[0m \u001b[1;36m0\u001b[0m \u001b[1;32mand\u001b[0m \u001b[1;32mnot\u001b[0m \u001b[0mdata\u001b[0m\u001b[1;33m:\u001b[0m  \u001b[1;31m# Platform-specific: Buggy versions of Python.\u001b[0m\u001b[1;33m\u001b[0m\u001b[0m\n\u001b[0;32m    303\u001b[0m                     \u001b[1;31m# Close the connection when no data is returned\u001b[0m\u001b[1;33m\u001b[0m\u001b[1;33m\u001b[0m\u001b[0m\n",
      "\u001b[1;32mC:\\Users\\byuceoglu\\AppData\\Local\\Continuum\\Anaconda\\lib\\httplib.pyc\u001b[0m in \u001b[0;36mread\u001b[1;34m(self, amt)\u001b[0m\n\u001b[0;32m    586\u001b[0m \u001b[1;33m\u001b[0m\u001b[0m\n\u001b[0;32m    587\u001b[0m         \u001b[1;32mif\u001b[0m \u001b[0mself\u001b[0m\u001b[1;33m.\u001b[0m\u001b[0mchunked\u001b[0m\u001b[1;33m:\u001b[0m\u001b[1;33m\u001b[0m\u001b[0m\n\u001b[1;32m--> 588\u001b[1;33m             \u001b[1;32mreturn\u001b[0m \u001b[0mself\u001b[0m\u001b[1;33m.\u001b[0m\u001b[0m_read_chunked\u001b[0m\u001b[1;33m(\u001b[0m\u001b[0mamt\u001b[0m\u001b[1;33m)\u001b[0m\u001b[1;33m\u001b[0m\u001b[0m\n\u001b[0m\u001b[0;32m    589\u001b[0m \u001b[1;33m\u001b[0m\u001b[0m\n\u001b[0;32m    590\u001b[0m         \u001b[1;32mif\u001b[0m \u001b[0mamt\u001b[0m \u001b[1;32mis\u001b[0m \u001b[0mNone\u001b[0m\u001b[1;33m:\u001b[0m\u001b[1;33m\u001b[0m\u001b[0m\n",
      "\u001b[1;32mC:\\Users\\byuceoglu\\AppData\\Local\\Continuum\\Anaconda\\lib\\httplib.pyc\u001b[0m in \u001b[0;36m_read_chunked\u001b[1;34m(self, amt)\u001b[0m\n\u001b[0;32m    628\u001b[0m         \u001b[1;32mwhile\u001b[0m \u001b[0mTrue\u001b[0m\u001b[1;33m:\u001b[0m\u001b[1;33m\u001b[0m\u001b[0m\n\u001b[0;32m    629\u001b[0m             \u001b[1;32mif\u001b[0m \u001b[0mchunk_left\u001b[0m \u001b[1;32mis\u001b[0m \u001b[0mNone\u001b[0m\u001b[1;33m:\u001b[0m\u001b[1;33m\u001b[0m\u001b[0m\n\u001b[1;32m--> 630\u001b[1;33m                 \u001b[0mline\u001b[0m \u001b[1;33m=\u001b[0m \u001b[0mself\u001b[0m\u001b[1;33m.\u001b[0m\u001b[0mfp\u001b[0m\u001b[1;33m.\u001b[0m\u001b[0mreadline\u001b[0m\u001b[1;33m(\u001b[0m\u001b[0m_MAXLINE\u001b[0m \u001b[1;33m+\u001b[0m \u001b[1;36m1\u001b[0m\u001b[1;33m)\u001b[0m\u001b[1;33m\u001b[0m\u001b[0m\n\u001b[0m\u001b[0;32m    631\u001b[0m                 \u001b[1;32mif\u001b[0m \u001b[0mlen\u001b[0m\u001b[1;33m(\u001b[0m\u001b[0mline\u001b[0m\u001b[1;33m)\u001b[0m \u001b[1;33m>\u001b[0m \u001b[0m_MAXLINE\u001b[0m\u001b[1;33m:\u001b[0m\u001b[1;33m\u001b[0m\u001b[0m\n\u001b[0;32m    632\u001b[0m                     \u001b[1;32mraise\u001b[0m \u001b[0mLineTooLong\u001b[0m\u001b[1;33m(\u001b[0m\u001b[1;34m\"chunk size\"\u001b[0m\u001b[1;33m)\u001b[0m\u001b[1;33m\u001b[0m\u001b[0m\n",
      "\u001b[1;32mC:\\Users\\byuceoglu\\AppData\\Local\\Continuum\\Anaconda\\lib\\socket.pyc\u001b[0m in \u001b[0;36mreadline\u001b[1;34m(self, size)\u001b[0m\n\u001b[0;32m    478\u001b[0m             \u001b[1;32mwhile\u001b[0m \u001b[0mTrue\u001b[0m\u001b[1;33m:\u001b[0m\u001b[1;33m\u001b[0m\u001b[0m\n\u001b[0;32m    479\u001b[0m                 \u001b[1;32mtry\u001b[0m\u001b[1;33m:\u001b[0m\u001b[1;33m\u001b[0m\u001b[0m\n\u001b[1;32m--> 480\u001b[1;33m                     \u001b[0mdata\u001b[0m \u001b[1;33m=\u001b[0m \u001b[0mself\u001b[0m\u001b[1;33m.\u001b[0m\u001b[0m_sock\u001b[0m\u001b[1;33m.\u001b[0m\u001b[0mrecv\u001b[0m\u001b[1;33m(\u001b[0m\u001b[0mself\u001b[0m\u001b[1;33m.\u001b[0m\u001b[0m_rbufsize\u001b[0m\u001b[1;33m)\u001b[0m\u001b[1;33m\u001b[0m\u001b[0m\n\u001b[0m\u001b[0;32m    481\u001b[0m                 \u001b[1;32mexcept\u001b[0m \u001b[0merror\u001b[0m\u001b[1;33m,\u001b[0m \u001b[0me\u001b[0m\u001b[1;33m:\u001b[0m\u001b[1;33m\u001b[0m\u001b[0m\n\u001b[0;32m    482\u001b[0m                     \u001b[1;32mif\u001b[0m \u001b[0me\u001b[0m\u001b[1;33m.\u001b[0m\u001b[0margs\u001b[0m\u001b[1;33m[\u001b[0m\u001b[1;36m0\u001b[0m\u001b[1;33m]\u001b[0m \u001b[1;33m==\u001b[0m \u001b[0mEINTR\u001b[0m\u001b[1;33m:\u001b[0m\u001b[1;33m\u001b[0m\u001b[0m\n",
      "\u001b[1;32mC:\\Users\\byuceoglu\\AppData\\Local\\Continuum\\Anaconda\\lib\\ssl.pyc\u001b[0m in \u001b[0;36mrecv\u001b[1;34m(self, buflen, flags)\u001b[0m\n\u001b[0;32m    732\u001b[0m                     \u001b[1;34m\"non-zero flags not allowed in calls to recv() on %s\"\u001b[0m \u001b[1;33m%\u001b[0m\u001b[1;33m\u001b[0m\u001b[0m\n\u001b[0;32m    733\u001b[0m                     self.__class__)\n\u001b[1;32m--> 734\u001b[1;33m             \u001b[1;32mreturn\u001b[0m \u001b[0mself\u001b[0m\u001b[1;33m.\u001b[0m\u001b[0mread\u001b[0m\u001b[1;33m(\u001b[0m\u001b[0mbuflen\u001b[0m\u001b[1;33m)\u001b[0m\u001b[1;33m\u001b[0m\u001b[0m\n\u001b[0m\u001b[0;32m    735\u001b[0m         \u001b[1;32melse\u001b[0m\u001b[1;33m:\u001b[0m\u001b[1;33m\u001b[0m\u001b[0m\n\u001b[0;32m    736\u001b[0m             \u001b[1;32mreturn\u001b[0m \u001b[0mself\u001b[0m\u001b[1;33m.\u001b[0m\u001b[0m_sock\u001b[0m\u001b[1;33m.\u001b[0m\u001b[0mrecv\u001b[0m\u001b[1;33m(\u001b[0m\u001b[0mbuflen\u001b[0m\u001b[1;33m,\u001b[0m \u001b[0mflags\u001b[0m\u001b[1;33m)\u001b[0m\u001b[1;33m\u001b[0m\u001b[0m\n",
      "\u001b[1;32mC:\\Users\\byuceoglu\\AppData\\Local\\Continuum\\Anaconda\\lib\\ssl.pyc\u001b[0m in \u001b[0;36mread\u001b[1;34m(self, len, buffer)\u001b[0m\n\u001b[0;32m    619\u001b[0m                 \u001b[0mv\u001b[0m \u001b[1;33m=\u001b[0m \u001b[0mself\u001b[0m\u001b[1;33m.\u001b[0m\u001b[0m_sslobj\u001b[0m\u001b[1;33m.\u001b[0m\u001b[0mread\u001b[0m\u001b[1;33m(\u001b[0m\u001b[0mlen\u001b[0m\u001b[1;33m,\u001b[0m \u001b[0mbuffer\u001b[0m\u001b[1;33m)\u001b[0m\u001b[1;33m\u001b[0m\u001b[0m\n\u001b[0;32m    620\u001b[0m             \u001b[1;32melse\u001b[0m\u001b[1;33m:\u001b[0m\u001b[1;33m\u001b[0m\u001b[0m\n\u001b[1;32m--> 621\u001b[1;33m                 \u001b[0mv\u001b[0m \u001b[1;33m=\u001b[0m \u001b[0mself\u001b[0m\u001b[1;33m.\u001b[0m\u001b[0m_sslobj\u001b[0m\u001b[1;33m.\u001b[0m\u001b[0mread\u001b[0m\u001b[1;33m(\u001b[0m\u001b[0mlen\u001b[0m \u001b[1;32mor\u001b[0m \u001b[1;36m1024\u001b[0m\u001b[1;33m)\u001b[0m\u001b[1;33m\u001b[0m\u001b[0m\n\u001b[0m\u001b[0;32m    622\u001b[0m             \u001b[1;32mreturn\u001b[0m \u001b[0mv\u001b[0m\u001b[1;33m\u001b[0m\u001b[0m\n\u001b[0;32m    623\u001b[0m         \u001b[1;32mexcept\u001b[0m \u001b[0mSSLError\u001b[0m \u001b[1;32mas\u001b[0m \u001b[0mx\u001b[0m\u001b[1;33m:\u001b[0m\u001b[1;33m\u001b[0m\u001b[0m\n",
      "\u001b[1;31mKeyboardInterrupt\u001b[0m: "
     ]
    }
   ],
   "source": [
    "#This is a basic listener that just prints received tweets to a file.\n",
    "class StdOutListener(StreamListener):\n",
    "    def on_data(self, data):\n",
    "        #print data\n",
    "        with open('fetched_tweets_class.txt','a') as tf:\n",
    "            tf.write(data)\n",
    "        return True\n",
    "\n",
    "    def on_error(self, status):\n",
    "        print status\n",
    "\n",
    "\n",
    "#This handles Twitter authetification and the connection to Twitter Streaming API\n",
    "l = StdOutListener()\n",
    "auth = OAuthHandler(consumer_key, consumer_secret)\n",
    "auth.set_access_token(access_token, access_token_secret)\n",
    "#We create a stream listener using the authentication information we provided above\n",
    "stream = Stream(auth, l)\n",
    "\n",
    "#This line filter Twitter Streams to capture data by the keywords: 'hillary', 'trump'\n",
    "# For more information you can check: http://tweepy.readthedocs.io/en/v3.5.0/streaming_how_to.html\n",
    "stream.filter(track=['hillary', 'trump']) "
   ]
  },
  {
   "cell_type": "markdown",
   "metadata": {},
   "source": [
    "We saved the tweets in a text file 'fetched_tweets_class.txt'. Now let us read the first tweet and see the format."
   ]
  },
  {
   "cell_type": "code",
   "execution_count": 15,
   "metadata": {
    "collapsed": false,
    "scrolled": true
   },
   "outputs": [
    {
     "name": "stdout",
     "output_type": "stream",
     "text": [
      "{\"created_at\":\"Tue Jun 07 09:09:33 +0000 2016\",\"id\":740108425686876160,\"id_str\":\"740108425686876160\",\"text\":\"RT @HillaryClinton: \\\"We must stand against hate wherever it rears its ugly head.\\\" \\u2014Hillary in 2000\\nhttps:\\/\\/t.co\\/qyhdZysMmH\",\"source\":\"\\u003ca href=\\\"http:\\/\\/twitter.com\\/download\\/android\\\" rel=\\\"nofollow\\\"\\u003eTwitter for Android\\u003c\\/a\\u003e\",\"truncated\":false,\"in_reply_to_status_id\":null,\"in_reply_to_status_id_str\":null,\"in_reply_to_user_id\":null,\"in_reply_to_user_id_str\":null,\"in_reply_to_screen_name\":null,\"user\":{\"id\":28571004,\"id_str\":\"28571004\",\"name\":\"Serah Mwihaki\",\"screen_name\":\"mwihakiwanjeri\",\"location\":\"Nairobi, Kenya\",\"url\":null,\"description\":\"A filmmaker with an insatiable passion for story telling. Creator. Writer.- Nairobi Half Life. Producer. Aspiring Oscar winner. Explorer.\",\"protected\":false,\"verified\":false,\"followers_count\":4458,\"friends_count\":3999,\"listed_count\":65,\"favourites_count\":313,\"statuses_count\":17531,\"created_at\":\"Fri Apr 03 14:17:15 +0000 2009\",\"utc_offset\":10800,\"time_zone\":\"Africa\\/Nairobi\",\"geo_enabled\":true,\"lang\":\"en\",\"contributors_enabled\":false,\"is_translator\":false,\"profile_background_color\":\"642D8B\",\"profile_background_image_url\":\"http:\\/\\/pbs.twimg.com\\/profile_background_images\\/378800000046640195\\/eaf8dd6176fbd00bbf3b38508df15559.jpeg\",\"profile_background_image_url_https\":\"https:\\/\\/pbs.twimg.com\\/profile_background_images\\/378800000046640195\\/eaf8dd6176fbd00bbf3b38508df15559.jpeg\",\"profile_background_tile\":true,\"profile_link_color\":\"FF0000\",\"profile_sidebar_border_color\":\"FFFFFF\",\"profile_sidebar_fill_color\":\"7AC3EE\",\"profile_text_color\":\"3D1957\",\"profile_use_background_image\":true,\"profile_image_url\":\"http:\\/\\/pbs.twimg.com\\/profile_images\\/723213154289901568\\/dXTRNPqI_normal.jpg\",\"profile_image_url_https\":\"https:\\/\\/pbs.twimg.com\\/profile_images\\/723213154289901568\\/dXTRNPqI_normal.jpg\",\"profile_banner_url\":\"https:\\/\\/pbs.twimg.com\\/profile_banners\\/28571004\\/1454053951\",\"default_profile\":false,\"default_profile_image\":false,\"following\":null,\"follow_request_sent\":null,\"notifications\":null},\"geo\":null,\"coordinates\":null,\"place\":null,\"contributors\":null,\"retweeted_status\":{\"created_at\":\"Sun Jun 05 23:03:36 +0000 2016\",\"id\":739593541874159620,\"id_str\":\"739593541874159620\",\"text\":\"\\\"We must stand against hate wherever it rears its ugly head.\\\" \\u2014Hillary in 2000\\nhttps:\\/\\/t.co\\/qyhdZysMmH\",\"source\":\"\\u003ca href=\\\"http:\\/\\/twitter.com\\\" rel=\\\"nofollow\\\"\\u003eTwitter Web Client\\u003c\\/a\\u003e\",\"truncated\":false,\"in_reply_to_status_id\":null,\"in_reply_to_status_id_str\":null,\"in_reply_to_user_id\":null,\"in_reply_to_user_id_str\":null,\"in_reply_to_screen_name\":null,\"user\":{\"id\":1339835893,\"id_str\":\"1339835893\",\"name\":\"Hillary Clinton\",\"screen_name\":\"HillaryClinton\",\"location\":\"New York, NY\",\"url\":\"http:\\/\\/hrc.io\\/signup\",\"description\":\"Wife, mom, grandma, women+kids advocate, FLOTUS, Senator, SecState, hair icon, pantsuit aficionado, 2016 presidential candidate. Tweets from Hillary signed \\u2013H\",\"protected\":false,\"verified\":true,\"followers_count\":6576212,\"friends_count\":660,\"listed_count\":26457,\"favourites_count\":1077,\"statuses_count\":5871,\"created_at\":\"Tue Apr 09 18:04:35 +0000 2013\",\"utc_offset\":-14400,\"time_zone\":\"Eastern Time (US & Canada)\",\"geo_enabled\":true,\"lang\":\"en\",\"contributors_enabled\":false,\"is_translator\":false,\"profile_background_color\":\"0057B8\",\"profile_background_image_url\":\"http:\\/\\/abs.twimg.com\\/images\\/themes\\/theme1\\/bg.png\",\"profile_background_image_url_https\":\"https:\\/\\/abs.twimg.com\\/images\\/themes\\/theme1\\/bg.png\",\"profile_background_tile\":false,\"profile_link_color\":\"0057B8\",\"profile_sidebar_border_color\":\"000000\",\"profile_sidebar_fill_color\":\"000000\",\"profile_text_color\":\"000000\",\"profile_use_background_image\":false,\"profile_image_url\":\"http:\\/\\/pbs.twimg.com\\/profile_images\\/729674936973824000\\/-aZz1fIs_normal.jpg\",\"profile_image_url_https\":\"https:\\/\\/pbs.twimg.com\\/profile_images\\/729674936973824000\\/-aZz1fIs_normal.jpg\",\"profile_banner_url\":\"https:\\/\\/pbs.twimg.com\\/profile_banners\\/1339835893\\/1456099152\",\"default_profile\":false,\"default_profile_image\":false,\"following\":null,\"follow_request_sent\":null,\"notifications\":null},\"geo\":null,\"coordinates\":null,\"place\":null,\"contributors\":null,\"is_quote_status\":false,\"retweet_count\":1676,\"favorite_count\":3980,\"entities\":{\"hashtags\":[],\"urls\":[{\"url\":\"https:\\/\\/t.co\\/qyhdZysMmH\",\"expanded_url\":\"https:\\/\\/amp.twimg.com\\/v\\/3dda7f94-6d35-4a7c-bb01-5e5123d73a48\",\"display_url\":\"amp.twimg.com\\/v\\/3dda7f94-6d3\\u2026\",\"indices\":[79,102]}],\"user_mentions\":[],\"symbols\":[]},\"favorited\":false,\"retweeted\":false,\"possibly_sensitive\":false,\"filter_level\":\"low\",\"lang\":\"en\"},\"is_quote_status\":false,\"retweet_count\":0,\"favorite_count\":0,\"entities\":{\"hashtags\":[],\"urls\":[{\"url\":\"https:\\/\\/t.co\\/qyhdZysMmH\",\"expanded_url\":\"https:\\/\\/amp.twimg.com\\/v\\/3dda7f94-6d35-4a7c-bb01-5e5123d73a48\",\"display_url\":\"amp.twimg.com\\/v\\/3dda7f94-6d3\\u2026\",\"indices\":[99,122]}],\"user_mentions\":[{\"screen_name\":\"HillaryClinton\",\"name\":\"Hillary Clinton\",\"id\":1339835893,\"id_str\":\"1339835893\",\"indices\":[3,18]}],\"symbols\":[]},\"favorited\":false,\"retweeted\":false,\"possibly_sensitive\":false,\"filter_level\":\"low\",\"lang\":\"en\",\"timestamp_ms\":\"1465290573890\"}\r\n",
      "\n"
     ]
    }
   ],
   "source": [
    "with open('fetched_tweets.txt', 'r') as tweetfile:\n",
    "    line = tweetfile.readline()\n",
    "print(line)"
   ]
  },
  {
   "cell_type": "markdown",
   "metadata": {},
   "source": [
    "The tweet that we fetched seems complicated to read as it is. However, we can see it is very similar to a data structure we have seen before. Now let us print the tweet in a prettier format using JSON package. "
   ]
  },
  {
   "cell_type": "code",
   "execution_count": 16,
   "metadata": {
    "collapsed": false
   },
   "outputs": [
    {
     "name": "stdout",
     "output_type": "stream",
     "text": [
      "{\n",
      "    \"contributors\": null, \n",
      "    \"truncated\": false, \n",
      "    \"text\": \"RT @HillaryClinton: \\\"We must stand against hate wherever it rears its ugly head.\\\" \\u2014Hillary in 2000\\nhttps://t.co/qyhdZysMmH\", \n",
      "    \"is_quote_status\": false, \n",
      "    \"in_reply_to_status_id\": null, \n",
      "    \"id\": 740108425686876160, \n",
      "    \"favorite_count\": 0, \n",
      "    \"source\": \"<a href=\\\"http://twitter.com/download/android\\\" rel=\\\"nofollow\\\">Twitter for Android</a>\", \n",
      "    \"retweeted\": false, \n",
      "    \"coordinates\": null, \n",
      "    \"timestamp_ms\": \"1465290573890\", \n",
      "    \"entities\": {\n",
      "        \"user_mentions\": [\n",
      "            {\n",
      "                \"id\": 1339835893, \n",
      "                \"indices\": [\n",
      "                    3, \n",
      "                    18\n",
      "                ], \n",
      "                \"id_str\": \"1339835893\", \n",
      "                \"screen_name\": \"HillaryClinton\", \n",
      "                \"name\": \"Hillary Clinton\"\n",
      "            }\n",
      "        ], \n",
      "        \"symbols\": [], \n",
      "        \"hashtags\": [], \n",
      "        \"urls\": [\n",
      "            {\n",
      "                \"url\": \"https://t.co/qyhdZysMmH\", \n",
      "                \"indices\": [\n",
      "                    99, \n",
      "                    122\n",
      "                ], \n",
      "                \"expanded_url\": \"https://amp.twimg.com/v/3dda7f94-6d35-4a7c-bb01-5e5123d73a48\", \n",
      "                \"display_url\": \"amp.twimg.com/v/3dda7f94-6d3\\u2026\"\n",
      "            }\n",
      "        ]\n",
      "    }, \n",
      "    \"in_reply_to_screen_name\": null, \n",
      "    \"id_str\": \"740108425686876160\", \n",
      "    \"retweet_count\": 0, \n",
      "    \"in_reply_to_user_id\": null, \n",
      "    \"favorited\": false, \n",
      "    \"retweeted_status\": {\n",
      "        \"contributors\": null, \n",
      "        \"truncated\": false, \n",
      "        \"text\": \"\\\"We must stand against hate wherever it rears its ugly head.\\\" \\u2014Hillary in 2000\\nhttps://t.co/qyhdZysMmH\", \n",
      "        \"is_quote_status\": false, \n",
      "        \"in_reply_to_status_id\": null, \n",
      "        \"id\": 739593541874159620, \n",
      "        \"favorite_count\": 3980, \n",
      "        \"source\": \"<a href=\\\"http://twitter.com\\\" rel=\\\"nofollow\\\">Twitter Web Client</a>\", \n",
      "        \"retweeted\": false, \n",
      "        \"coordinates\": null, \n",
      "        \"entities\": {\n",
      "            \"user_mentions\": [], \n",
      "            \"symbols\": [], \n",
      "            \"hashtags\": [], \n",
      "            \"urls\": [\n",
      "                {\n",
      "                    \"url\": \"https://t.co/qyhdZysMmH\", \n",
      "                    \"indices\": [\n",
      "                        79, \n",
      "                        102\n",
      "                    ], \n",
      "                    \"expanded_url\": \"https://amp.twimg.com/v/3dda7f94-6d35-4a7c-bb01-5e5123d73a48\", \n",
      "                    \"display_url\": \"amp.twimg.com/v/3dda7f94-6d3\\u2026\"\n",
      "                }\n",
      "            ]\n",
      "        }, \n",
      "        \"in_reply_to_screen_name\": null, \n",
      "        \"id_str\": \"739593541874159620\", \n",
      "        \"retweet_count\": 1676, \n",
      "        \"in_reply_to_user_id\": null, \n",
      "        \"favorited\": false, \n",
      "        \"user\": {\n",
      "            \"follow_request_sent\": null, \n",
      "            \"profile_use_background_image\": false, \n",
      "            \"default_profile_image\": false, \n",
      "            \"id\": 1339835893, \n",
      "            \"verified\": true, \n",
      "            \"profile_image_url_https\": \"https://pbs.twimg.com/profile_images/729674936973824000/-aZz1fIs_normal.jpg\", \n",
      "            \"profile_sidebar_fill_color\": \"000000\", \n",
      "            \"profile_text_color\": \"000000\", \n",
      "            \"followers_count\": 6576212, \n",
      "            \"profile_sidebar_border_color\": \"000000\", \n",
      "            \"id_str\": \"1339835893\", \n",
      "            \"profile_background_color\": \"0057B8\", \n",
      "            \"listed_count\": 26457, \n",
      "            \"profile_background_image_url_https\": \"https://abs.twimg.com/images/themes/theme1/bg.png\", \n",
      "            \"utc_offset\": -14400, \n",
      "            \"statuses_count\": 5871, \n",
      "            \"description\": \"Wife, mom, grandma, women+kids advocate, FLOTUS, Senator, SecState, hair icon, pantsuit aficionado, 2016 presidential candidate. Tweets from Hillary signed \\u2013H\", \n",
      "            \"friends_count\": 660, \n",
      "            \"location\": \"New York, NY\", \n",
      "            \"profile_link_color\": \"0057B8\", \n",
      "            \"profile_image_url\": \"http://pbs.twimg.com/profile_images/729674936973824000/-aZz1fIs_normal.jpg\", \n",
      "            \"following\": null, \n",
      "            \"geo_enabled\": true, \n",
      "            \"profile_banner_url\": \"https://pbs.twimg.com/profile_banners/1339835893/1456099152\", \n",
      "            \"profile_background_image_url\": \"http://abs.twimg.com/images/themes/theme1/bg.png\", \n",
      "            \"name\": \"Hillary Clinton\", \n",
      "            \"lang\": \"en\", \n",
      "            \"profile_background_tile\": false, \n",
      "            \"favourites_count\": 1077, \n",
      "            \"screen_name\": \"HillaryClinton\", \n",
      "            \"notifications\": null, \n",
      "            \"url\": \"http://hrc.io/signup\", \n",
      "            \"created_at\": \"Tue Apr 09 18:04:35 +0000 2013\", \n",
      "            \"contributors_enabled\": false, \n",
      "            \"time_zone\": \"Eastern Time (US & Canada)\", \n",
      "            \"protected\": false, \n",
      "            \"default_profile\": false, \n",
      "            \"is_translator\": false\n",
      "        }, \n",
      "        \"geo\": null, \n",
      "        \"in_reply_to_user_id_str\": null, \n",
      "        \"possibly_sensitive\": false, \n",
      "        \"lang\": \"en\", \n",
      "        \"created_at\": \"Sun Jun 05 23:03:36 +0000 2016\", \n",
      "        \"filter_level\": \"low\", \n",
      "        \"in_reply_to_status_id_str\": null, \n",
      "        \"place\": null\n",
      "    }, \n",
      "    \"user\": {\n",
      "        \"follow_request_sent\": null, \n",
      "        \"profile_use_background_image\": true, \n",
      "        \"default_profile_image\": false, \n",
      "        \"id\": 28571004, \n",
      "        \"verified\": false, \n",
      "        \"profile_image_url_https\": \"https://pbs.twimg.com/profile_images/723213154289901568/dXTRNPqI_normal.jpg\", \n",
      "        \"profile_sidebar_fill_color\": \"7AC3EE\", \n",
      "        \"profile_text_color\": \"3D1957\", \n",
      "        \"followers_count\": 4458, \n",
      "        \"profile_sidebar_border_color\": \"FFFFFF\", \n",
      "        \"id_str\": \"28571004\", \n",
      "        \"profile_background_color\": \"642D8B\", \n",
      "        \"listed_count\": 65, \n",
      "        \"profile_background_image_url_https\": \"https://pbs.twimg.com/profile_background_images/378800000046640195/eaf8dd6176fbd00bbf3b38508df15559.jpeg\", \n",
      "        \"utc_offset\": 10800, \n",
      "        \"statuses_count\": 17531, \n",
      "        \"description\": \"A filmmaker with an insatiable passion for story telling. Creator. Writer.- Nairobi Half Life. Producer. Aspiring Oscar winner. Explorer.\", \n",
      "        \"friends_count\": 3999, \n",
      "        \"location\": \"Nairobi, Kenya\", \n",
      "        \"profile_link_color\": \"FF0000\", \n",
      "        \"profile_image_url\": \"http://pbs.twimg.com/profile_images/723213154289901568/dXTRNPqI_normal.jpg\", \n",
      "        \"following\": null, \n",
      "        \"geo_enabled\": true, \n",
      "        \"profile_banner_url\": \"https://pbs.twimg.com/profile_banners/28571004/1454053951\", \n",
      "        \"profile_background_image_url\": \"http://pbs.twimg.com/profile_background_images/378800000046640195/eaf8dd6176fbd00bbf3b38508df15559.jpeg\", \n",
      "        \"name\": \"Serah Mwihaki\", \n",
      "        \"lang\": \"en\", \n",
      "        \"profile_background_tile\": true, \n",
      "        \"favourites_count\": 313, \n",
      "        \"screen_name\": \"mwihakiwanjeri\", \n",
      "        \"notifications\": null, \n",
      "        \"url\": null, \n",
      "        \"created_at\": \"Fri Apr 03 14:17:15 +0000 2009\", \n",
      "        \"contributors_enabled\": false, \n",
      "        \"time_zone\": \"Africa/Nairobi\", \n",
      "        \"protected\": false, \n",
      "        \"default_profile\": false, \n",
      "        \"is_translator\": false\n",
      "    }, \n",
      "    \"geo\": null, \n",
      "    \"in_reply_to_user_id_str\": null, \n",
      "    \"possibly_sensitive\": false, \n",
      "    \"lang\": \"en\", \n",
      "    \"created_at\": \"Tue Jun 07 09:09:33 +0000 2016\", \n",
      "    \"filter_level\": \"low\", \n",
      "    \"in_reply_to_status_id_str\": null, \n",
      "    \"place\": null\n",
      "}\n"
     ]
    }
   ],
   "source": [
    "import json\n",
    "line = json.loads(line)\n",
    "print json.dumps(line,indent=4)\n",
    "    "
   ]
  },
  {
   "cell_type": "markdown",
   "metadata": {},
   "source": [
    "It looks exactly like a dictionary with several layers. We can see the body of the tweet in **text** header. There are other informations such as id, language, time of the tweet. In **entities** header, we can see that the tweet mentions a user called **HillaryClinton** with id **1339835893**.\n",
    "\n",
    "The tweets are in JSON format. It follows {\"key\":value} structure. Under a key, we are allowed to use multiple entries such as:\n",
    "\n",
    "\n",
    "\"numberChildren\": 2,\n",
    "\n",
    "\"children\": [\n",
    "\n",
    "    {\n",
    "      \"name\": \"XXXX YYYY\",\n",
    "      \"age\": 4\n",
    "    },\n",
    "    {\n",
    "      \"name\": \"YYYY XXXX\",\n",
    "      \"age\": 7\n",
    "    }\n",
    "  ],....\n",
    "  \n",
    "Now let's read and format the tweets that we downloaded."
   ]
  },
  {
   "cell_type": "code",
   "execution_count": 17,
   "metadata": {
    "collapsed": false
   },
   "outputs": [
    {
     "name": "stdout",
     "output_type": "stream",
     "text": [
      "RT @HillaryClinton: \"We must stand against hate wherever it rears its ugly head.\" Hillary in 2000\n",
      "https://t.co/qyhdZysMmH\n",
      "['we', 'must', 'stand', 'against', 'hate', 'wherever', 'rears', 'its', 'ugly', 'head', 'hillary']\n"
     ]
    }
   ],
   "source": [
    "import string\n",
    "import unicodedata\n",
    "tweets = []\n",
    "tweets_list = []\n",
    "with open('fetched_tweets.txt', 'r') as f:\n",
    "    for line in f:\n",
    "        tweet = json.loads(line) # load it as Python dict\n",
    "        #print json.dumps(tweet, indent=4)\n",
    "        tweet = tweet['text']\n",
    "        tweet = unicodedata.normalize('NFKD', tweet).encode('ascii','ignore')\n",
    "        tweets.append(tweet)\n",
    "        usedwords = [str(word).translate(None, string.punctuation).lower() for word in tweet.split() \\\n",
    "             if word[0] != '@' and len(word) >= 3 and word[0:4] != 'http']\n",
    "        usedwords = [word for word in usedwords if not word.isdigit()]\n",
    "      \n",
    "        #print usedwords\n",
    "        tweets_list.append(usedwords)\n",
    "        #print(json.dumps(tweet, indent=4)) # pretty-print\n",
    "print(tweets[0])\n",
    "print(tweets_list[0])"
   ]
  },
  {
   "cell_type": "markdown",
   "metadata": {},
   "source": [
    "# Search API\n",
    "\n",
    "In the Search API we can get followers of a user and timeline of a particular user. To get the followers of a user, we need the screen name (Twitter user name).\n",
    "\n",
    "Note that Twitter imposes heavy restrictions on fetching such data. You can make at most 15 requests in 15 minutes. This is why you should add a pause between requests. In this example we do not use any pause as we fetch only 5000 users.\n",
    "\n",
    "In the Search API, an important feature is **Cursor**. Cursors allows us to iterate through the information that we want by breaking it into pages (in ordero to respect the usage limits). This information can be the followers of a user (followers_ids) or accounts a user is following (friends_ids).\n",
    "\n",
    "First we set up the connection."
   ]
  },
  {
   "cell_type": "code",
   "execution_count": 18,
   "metadata": {
    "collapsed": false
   },
   "outputs": [],
   "source": [
    "import time\n",
    "import tweepy\n",
    "\n",
    "#Variables that contains the user credentials to access Twitter API \n",
    "access_token = \"22783903-xlCuRfdqXvt7XJL6NEtmzPYesCXfqYlPk9gp905ZP\"\n",
    "access_token_secret = \"2Uy6FaBC7NUpAt0ujyq6agUwE5Olt87bs89sS30zCATqA\"\n",
    "consumer_key = \"tOe4LcFZPt5OSj637j0CxEENe\"\n",
    "consumer_secret = \"O4IfN0HfsmKZz1ykVmlAP5EqXboboh0nBZ9OC1f95yRIcxrDcY\"\n",
    "\n",
    "\n",
    "auth = OAuthHandler(consumer_key, consumer_secret)\n",
    "auth.set_access_token(access_token, access_token_secret)\n",
    "\n",
    "api = tweepy.API(auth)\n"
   ]
  },
  {
   "cell_type": "markdown",
   "metadata": {},
   "source": [
    "Now let us find the followers of the account with **screen_name** \"thebeatles\". We use **Cursor** to fetch that information. We use Cursor as follows:\n",
    "\n",
    "**for page in tweepy.Cursor(....).pages():**\n",
    "\n",
    "We have to provide information on what to fetch in the paranthesis. Here we want to fetch **followers_ids** of the user with **screen_name** \"thebeatles\". Because of the time and usage restrictions we limit the fetching to one page (5000 users). If you want to carry on you can pause for 60 seconds (Twitter allows for 15 requests in 15 minutes). "
   ]
  },
  {
   "cell_type": "code",
   "execution_count": 19,
   "metadata": {
    "collapsed": false
   },
   "outputs": [
    {
     "name": "stdout",
     "output_type": "stream",
     "text": [
      "5000\n"
     ]
    }
   ],
   "source": [
    "ids = []\n",
    "for page in tweepy.Cursor(api.followers_ids, screen_name=\"thebeatles\").pages():\n",
    "    ids.extend(page)\n",
    "    time.sleep(1)\n",
    "    break\n",
    "\n",
    "print len(ids)"
   ]
  },
  {
   "cell_type": "markdown",
   "metadata": {},
   "source": [
    "Now let us see the ids of users that we fetched."
   ]
  },
  {
   "cell_type": "code",
   "execution_count": 20,
   "metadata": {
    "collapsed": false
   },
   "outputs": [
    {
     "name": "stdout",
     "output_type": "stream",
     "text": [
      "[742181842292350976L, 3371133013L, 742637740953632768L, 732009858, 742638669043929088L, 1711319101, 1705797973, 742637126102179840L, 742637000793202688L, 742636584722276352L]\n"
     ]
    }
   ],
   "source": [
    "print(ids[:10])"
   ]
  },
  {
   "cell_type": "markdown",
   "metadata": {},
   "source": [
    "Of course user ids do not make sense by themselves. Let us also see the screen name and the last tweets of each user, if any. For that purpose, we can use user id or we can get the user screen_name (**get_user**)."
   ]
  },
  {
   "cell_type": "code",
   "execution_count": 26,
   "metadata": {
    "collapsed": false
   },
   "outputs": [
    {
     "name": "stdout",
     "output_type": "stream",
     "text": [
      "User(follow_request_sent=False, has_extended_profile=False, profile_use_background_image=True, _json={u'follow_request_sent': False, u'has_extended_profile': False, u'profile_use_background_image': True, u'profile_text_color': u'333333', u'default_profile_image': False, u'id': 742181842292350976L, u'profile_background_image_url_https': None, u'verified': False, u'profile_location': None, u'profile_image_url_https': u'https://pbs.twimg.com/profile_images/742293451249713152/sAIoDFCy_normal.jpg', u'profile_sidebar_fill_color': u'DDEEF6', u'entities': {u'description': {u'urls': []}}, u'followers_count': 4, u'profile_sidebar_border_color': u'C0DEED', u'id_str': u'742181842292350976', u'profile_background_color': u'F5F8FA', u'listed_count': 0, u'is_translation_enabled': False, u'utc_offset': None, u'statuses_count': 0, u'description': u'', u'friends_count': 30, u'location': u'', u'profile_link_color': u'2B7BB9', u'profile_image_url': u'http://pbs.twimg.com/profile_images/742293451249713152/sAIoDFCy_normal.jpg', u'following': False, u'geo_enabled': False, u'profile_background_image_url': None, u'name': u'Ben Ronald Godeloson', u'lang': u'en', u'profile_background_tile': False, u'favourites_count': 0, u'screen_name': u'BenGodeloson', u'notifications': False, u'url': None, u'created_at': u'Mon Jun 13 02:28:35 +0000 2016', u'contributors_enabled': False, u'time_zone': None, u'protected': False, u'default_profile': True, u'is_translator': False}, time_zone=None, id=742181842292350976L, description=u'', _api=<tweepy.api.API object at 0x000000000423A9B0>, verified=False, profile_location=None, profile_image_url_https=u'https://pbs.twimg.com/profile_images/742293451249713152/sAIoDFCy_normal.jpg', profile_sidebar_fill_color=u'DDEEF6', is_translator=False, geo_enabled=False, entities={u'description': {u'urls': []}}, followers_count=4, protected=False, id_str=u'742181842292350976', default_profile_image=False, listed_count=0, lang=u'en', utc_offset=None, statuses_count=0, profile_background_color=u'F5F8FA', friends_count=30, profile_link_color=u'2B7BB9', profile_image_url=u'http://pbs.twimg.com/profile_images/742293451249713152/sAIoDFCy_normal.jpg', notifications=False, favourites_count=0, profile_background_image_url_https=None, profile_background_image_url=None, screen_name=u'BenGodeloson', is_translation_enabled=False, profile_background_tile=False, profile_text_color=u'333333', name=u'Ben Ronald Godeloson', url=None, created_at=datetime.datetime(2016, 6, 13, 2, 28, 35), contributors_enabled=False, location=u'', profile_sidebar_border_color=u'C0DEED', default_profile=True, following=False)\n"
     ]
    }
   ],
   "source": [
    "u = api.get_user(ids[0])\n",
    "print u"
   ]
  },
  {
   "cell_type": "markdown",
   "metadata": {},
   "source": [
    "Finally, we use user ids or screen names in order to fetch their latest tweet, if any. We use **user_timeline** to fetch tweets of a given user."
   ]
  },
  {
   "cell_type": "code",
   "execution_count": 27,
   "metadata": {
    "collapsed": false
   },
   "outputs": [
    {
     "name": "stdout",
     "output_type": "stream",
     "text": [
      "BenGodeloson\n",
      "jane22224\n",
      "leslie_boling\n",
      "Natvblanco\n",
      "[u'742639436299522048', datetime.datetime(2016, 6, 14, 8, 46, 53), 'hmmm Chinese or Thai  food sound really good right now.', u'en']\n",
      "Ayeshmant2Akila\n",
      "ffsmaddy\n",
      "[u'742362157434572800', datetime.datetime(2016, 6, 13, 14, 25, 5), \"RT @jk_rowling: Luis Vielma worked on the Harry Potter ride at Universal. He was 22 years old. I can't stop crying. #Orlando https://t.co/N\\xe2\\x80\\xa6\", u'en']\n",
      "AnjosPedroanjos\n",
      "[u'742637328154427392', datetime.datetime(2016, 6, 14, 8, 38, 31), '@TIME shut', u'en']\n",
      "RaymondImtiaz1\n",
      "[u'742640780473470976', datetime.datetime(2016, 6, 14, 8, 52, 14), '@nazish_farid https://t.co/4fy00TZbKU', u'und']\n",
      "Hooonsi\n",
      "windrider7777\n",
      "ChefHafedh\n",
      "ShilanShams\n",
      "HunterHendry97\n",
      "[u'742640703050817537', datetime.datetime(2016, 6, 14, 8, 51, 55), \"@JutesMusic trying to use up all night on a youtube video I'm working on  any chance i could use it?\", u'en']\n",
      "KraghNicklas\n",
      "[u'742635007978688512', datetime.datetime(2016, 6, 14, 8, 29, 18), 'RT @LivelyPics: Some people are actually afraid of being too happy because they think something tragic is going to happen soon. This is kno\\xe2\\x80\\xa6', u'en']\n",
      "Beyawnka\n",
      "[u'742631976641777664', datetime.datetime(2016, 6, 14, 8, 17, 15), 'RT @thinkslikethat: WHY DO A LOT OF GUYS HAVE SUCH LONG EYELASHES THAT THEY DONT EVEN NEED I WANT THOSE EYELASHES', u'en']\n"
     ]
    }
   ],
   "source": [
    "for id in ids[:15]:\n",
    "    u = api.get_user(id)\n",
    "    print u.screen_name\n",
    "    tweets = api.user_timeline(screen_name = u.screen_name,count=1)\n",
    "    if(len(tweets) > 0):\n",
    "        outtweets = [tweets[0].id_str, tweets[0].created_at,tweets[0].text.encode('utf-8'), tweets[0].lang]\n",
    "        print(outtweets)"
   ]
  },
  {
   "cell_type": "code",
   "execution_count": null,
   "metadata": {
    "collapsed": true
   },
   "outputs": [],
   "source": []
  }
 ],
 "metadata": {
  "kernelspec": {
   "display_name": "Python 2",
   "language": "python",
   "name": "python2"
  },
  "language_info": {
   "codemirror_mode": {
    "name": "ipython",
    "version": 2
   },
   "file_extension": ".py",
   "mimetype": "text/x-python",
   "name": "python",
   "nbconvert_exporter": "python",
   "pygments_lexer": "ipython2",
   "version": "2.7.11"
  }
 },
 "nbformat": 4,
 "nbformat_minor": 0
}
