{
 "cells": [
  {
   "cell_type": "markdown",
   "metadata": {},
   "source": [
    "# Sentiment Analysis with Twitter Data\n",
    "\n",
    "We use the previous case study in order to classify the tweets that we fetched. We read and train a BernoulliNB classifier as below (details in the original notebook).\n",
    "\n",
    "We train using all data in order to predict fetched tweets.\n",
    "\n",
    "Note that we use BernoulliNB and CountVectorizer from scikit-learn."
   ]
  },
  {
   "cell_type": "code",
   "execution_count": 2,
   "metadata": {
    "collapsed": false
   },
   "outputs": [
    {
     "name": "stdout",
     "output_type": "stream",
     "text": [
      "(642542, 5698)\n",
      "BNB trained\n"
     ]
    }
   ],
   "source": [
    "import string\n",
    "from sklearn.feature_extraction.text import CountVectorizer\n",
    "import numpy as np\n",
    "from sklearn.naive_bayes import BernoulliNB\n",
    "\n",
    "tweets = []\n",
    "y=[]\n",
    "with open('../data/neg_tweets.txt','r') as infile:\n",
    "    for line in infile:\n",
    "        usedwords = []\n",
    "        for word in line.split():\n",
    "            if word[0] != '@' and len(word) >= 3 and word[0:4] != 'http':\n",
    "                wordnp = word.translate(None, string.punctuation)\n",
    "                if len(wordnp) >0 and not(wordnp[0].isdigit()):\n",
    "                    usedwords.append(wordnp.lower());\n",
    "        dictwords = dict([(word, True) for word in usedwords])\n",
    "        if len(dictwords) > 0: # We omit empty tweets\n",
    "            tweets.append(' '.join(usedwords))\n",
    "            y.append(0)\n",
    "\n",
    "with open('../data/pos_tweets.txt','r') as infile:\n",
    "    for line in infile:\n",
    "        usedwords = []\n",
    "        for word in line.split():\n",
    "            if word[0] != '@' and len(word) >= 3 and word[0:4] != 'http':\n",
    "                wordnp = word.translate(None, string.punctuation)\n",
    "                if len(wordnp) >0 and not(wordnp[0].isdigit()):\n",
    "                    usedwords.append(wordnp.lower());\n",
    "        dictwords = dict([(word, True) for word in usedwords])                    \n",
    "        if len(dictwords) > 0: # We omit empty tweets\n",
    "            tweets.append(' '.join(usedwords))\n",
    "            y.append(1)\n",
    "\n",
    "\n",
    "\n",
    "# We use stop_words = 'english' in order to remove stop words\n",
    "# In addition to that we select binary = True to create a matrix of 0 and 1s.\n",
    "cv = CountVectorizer(min_df = 50, stop_words='english', binary=True)\n",
    "cv_matrix = cv.fit_transform(tweets)\n",
    "#cv_matrix = cv_matrix.todense()\n",
    "print(np.shape(cv_matrix))\n",
    "\n",
    "bnb = BernoulliNB()\n",
    "\n",
    "#This line is for training\n",
    "bnb.fit(cv_matrix,y)\n",
    "print('BNB trained')"
   ]
  },
  {
   "cell_type": "markdown",
   "metadata": {},
   "source": [
    "Now let us do the sentiment analysis on the tweets that we fetched."
   ]
  },
  {
   "cell_type": "code",
   "execution_count": 9,
   "metadata": {
    "collapsed": false
   },
   "outputs": [
    {
     "name": "stdout",
     "output_type": "stream",
     "text": [
      "we must stand against hate wherever rears its ugly head hillary\n",
      "RT @HillaryClinton: \"We must stand against hate wherever it rears its ugly head.\" Hillary in 2000\n",
      "https://t.co/qyhdZysMmH\n"
     ]
    }
   ],
   "source": [
    "import json\n",
    "import unicodedata\n",
    "\n",
    "new_tweets = []\n",
    "new_tweets_list=[]\n",
    "with open('../data/fetched_tweets.txt', 'r') as f:\n",
    "    for line in f:\n",
    "        tweet = json.loads(line) # load it as Python dict\n",
    "        #print json.dumps(tweet, indent=4)\n",
    "        tweet = tweet['text']\n",
    "        tweet = unicodedata.normalize('NFKD', tweet).encode('ascii','ignore')\n",
    "        #new_tweets.append(tweet)\n",
    "        usedwords = [str(word).translate(None, string.punctuation).lower() for word in tweet.split() \\\n",
    "             if word[0] != '@' and len(word) >= 3 and word[0:4] != 'http']\n",
    "        usedwords = [word for word in usedwords if not word.isdigit()]\n",
    "        new_tweets.append(' '.join(usedwords))\n",
    "        #print usedwords\n",
    "        new_tweets_list.append(tweet)\n",
    "        #print(json.dumps(tweet, indent=4)) # pretty-print\n",
    "print(new_tweets[0])\n",
    "print(new_tweets_list[0])"
   ]
  },
  {
   "cell_type": "markdown",
   "metadata": {},
   "source": [
    "Now let us use the newly fetched tweets in sentiment analysis."
   ]
  },
  {
   "cell_type": "code",
   "execution_count": 10,
   "metadata": {
    "collapsed": false
   },
   "outputs": [],
   "source": [
    "cv_new_tweets = cv.transform(new_tweets)\n",
    "\n",
    "y_sentiment = bnb.predict_proba(cv_new_tweets)"
   ]
  },
  {
   "cell_type": "markdown",
   "metadata": {},
   "source": [
    "Print out the tweets that are at least 90% negative and positive."
   ]
  },
  {
   "cell_type": "code",
   "execution_count": 11,
   "metadata": {
    "collapsed": false
   },
   "outputs": [
    {
     "name": "stdout",
     "output_type": "stream",
     "text": [
      "RT @HillaryClinton: \"We must stand against hate wherever it rears its ugly head.\" Hillary in 2000\n",
      "https://t.co/qyhdZysMmH\n",
      "Negative sentiment:  0.973976264389 Positive sentiment:  0.0260237356105\n",
      "Wow! No news Fox wants it to be Bernie because Trump will eat him alive sadly to say and they know Hill will destroy Trump in UC election.\n",
      "Negative sentiment:  0.943720021124 Positive sentiment:  0.0562799788764\n",
      "RT @chatachula: VOTE FOR BERNIE TOMORROW PLEASE GOD IF HE DONT GET THIS CALIFORNIA PRIMARY IT GON BE BETWEEN HILARY AND TRUMP DO U WANNA DIE\n",
      "Negative sentiment:  0.940436511975 Positive sentiment:  0.0595634880246\n",
      "RT @david8hughes: Trump: fucken hate muslims\n",
      "Advisor: Muhammad Ali just died\n",
      "Trump: butterfly box man?\n",
      "Advisor: butterfly box man\n",
      "Trump: I...\n",
      "Negative sentiment:  0.973090057892 Positive sentiment:  0.0269099421076\n",
      "RT @cher: MUST VOTE TOMM!!Am Angry News Didnt Wait Till After Polls Closed TUES,B4 Calling HILLARY Presumptive Nominee.WE MUST VOTE 4HER T...\n",
      "Negative sentiment:  0.971319404755 Positive sentiment:  0.0286805952453\n",
      "RT @Good_Beard: Now that, sadly Bernie is out of the election, Hillary needs to address the issues he has raised. Then two words will matte...\n",
      "Negative sentiment:  0.943514219177 Positive sentiment:  0.0564857808226\n",
      "RT @ScarletPax: @nytimes They're right to be worried. Hillary is the wrong woman to be the 1st female President. She should've taken the hi...\n",
      "Negative sentiment:  0.95645234566 Positive sentiment:  0.0435476543399\n",
      "i just read hillary got the nom and was so upset and angry then found out it wasnt true\n",
      "Negative sentiment:  0.956139958105 Positive sentiment:  0.0438600418948\n",
      "@realDonaldTrump Mr. Trump, email me at vicaloha@aol.com\n",
      "I can't stand that you are killing all you gained. Stop it already. We must win.\n",
      "Negative sentiment:  0.94307058859 Positive sentiment:  0.0569294114104\n",
      "@octaviabIake I honestly thought the whole cast was Bernie, but then I found out Richards gf is a trump supporter so idk anymore\n",
      "Negative sentiment:  0.934865419969 Positive sentiment:  0.0651345800309\n",
      "RT @itsashlyperez: Say what you want about Hillary but the glass ceiling just cracked. \n",
      "\n",
      "*cries tears of joy for a thousand years* https://...\n",
      "Negative sentiment:  0.995236379078 Positive sentiment:  0.00476362092162\n",
      "RT @chipgoines: ICYMI: @hardball_chris called the @AP's Hillary prediction two wks ago. The fix is in. CA Bernie Voters: Stay Home! https:/...\n",
      "Negative sentiment:  0.923323659924 Positive sentiment:  0.0766763400758\n",
      "RT @realDonaldTrump: Hillary Clinton is unfit to be president. She has bad judgement, poor leadership skills and a very bad and destructive...\n",
      "Negative sentiment:  0.90095853746 Positive sentiment:  0.0990414625405\n",
      "RT @chatachula: VOTE FOR BERNIE TOMORROW PLEASE GOD IF HE DONT GET THIS CALIFORNIA PRIMARY IT GON BE BETWEEN HILARY AND TRUMP DO U WANNA DIE\n",
      "Negative sentiment:  0.940436511975 Positive sentiment:  0.0595634880246\n",
      "RT @BillKristol: A piece from two years ago Donald Trump should read.\n",
      "\"D-Day veteran: Bloody battle for freedom nearly forgotten.\" https://...\n",
      "Negative sentiment:  0.902827067748 Positive sentiment:  0.0971729322516\n",
      "RT @chatachula: VOTE FOR BERNIE TOMORROW PLEASE GOD IF HE DONT GET THIS CALIFORNIA PRIMARY IT GON BE BETWEEN HILARY AND TRUMP DO U WANNA DIE\n",
      "Negative sentiment:  0.940436511975 Positive sentiment:  0.0595634880246\n",
      "RT @AlisonSpalding2: Sarandon says H has done Horrible things,is worse than Trump\n",
      "https://t.co/R2BJrT1XmK\n",
      "\"IDK what H's policies r but know...\n",
      "Negative sentiment:  0.989967620494 Positive sentiment:  0.0100323795064\n",
      "RT @AnthonyCumia: Her bullshit knows no end. Values!????\n",
      "Their values make people like you sick. #Trump  https://t.co/vbsKnZvKEa\n",
      "Negative sentiment:  0.948214411608 Positive sentiment:  0.0517855883923\n",
      "RT @chatachula: VOTE FOR BERNIE TOMORROW PLEASE GOD IF HE DONT GET THIS CALIFORNIA PRIMARY IT GON BE BETWEEN HILARY AND TRUMP DO U WANNA DIE\n",
      "Negative sentiment:  0.940436511975 Positive sentiment:  0.0595634880246\n",
      "RT @chatachula: VOTE FOR BERNIE TOMORROW PLEASE GOD IF HE DONT GET THIS CALIFORNIA PRIMARY IT GON BE BETWEEN HILARY AND TRUMP DO U WANNA DIE\n",
      "Negative sentiment:  0.940436511975 Positive sentiment:  0.0595634880246\n",
      "Trump is stupid, right? &gt; European companies say operating in China is growing increasingly difficult as they battle loosely defined laws\n",
      "Negative sentiment:  0.950557893785 Positive sentiment:  0.0494421062152\n",
      "How I wish Trump to come to power in US. They should also suffer. Indians have already exercised their right. Idiot voters are everywhere.\n",
      "Negative sentiment:  0.940863841893 Positive sentiment:  0.0591361581074\n",
      "RT @Tanvir_Hashmi: How I wish Trump to come to power in US. They should also suffer. Indians have already exercised their right. Idiot vote...\n",
      "Negative sentiment:  0.906306598298 Positive sentiment:  0.0936934017019\n"
     ]
    }
   ],
   "source": [
    "for i in range(len(y_sentiment)):\n",
    "    if(y_sentiment[i,0] >= 0.9):\n",
    "        print new_tweets_list[i]\n",
    "        print 'Negative sentiment: ', y_sentiment[i,0], 'Positive sentiment: ',y_sentiment[i,1]"
   ]
  },
  {
   "cell_type": "code",
   "execution_count": 12,
   "metadata": {
    "collapsed": false
   },
   "outputs": [
    {
     "name": "stdout",
     "output_type": "stream",
     "text": [
      "RT @mitchellvii: PRIMARY DAY! California, New Jersey, Montana, New Mexico and South Dakota all vote today!  Let's get Trump over 1400!\n",
      "Negative sentiment:  0.0554977837101 Positive sentiment:  0.94450221629\n",
      "RT @Vipin4Vns: Congratulations: Madam Hillary Clinton clinches Democratic presidential nomination https://t.co/2yXdtXpDbF\n",
      "Negative sentiment:  0.0453437830962 Positive sentiment:  0.954656216904\n",
      "RT @msmitharena: AP calls it for Hillary as presumptive Democratic candidate. So proud of her--she's my hero. Unadulterated joy! https://t....\n",
      "Negative sentiment:  0.0456692631977 Positive sentiment:  0.954330736802\n",
      "RT @Schwarzenegger: Judge Curiel is an American hero who stood up to the Mexican cartels. I was proud to appoint him when I was Gov. https:...\n",
      "Negative sentiment:  0.0424177215223 Positive sentiment:  0.957582278478\n",
      "RT @JackPMoore: Meryl Streep dressed up like Donald Trump tonight and Christine Baranski loved it. Sometimes the world is perfect. https://...\n",
      "Negative sentiment:  0.0897233642283 Positive sentiment:  0.910276635772\n",
      "RT @Tripfania: Street scenes from Copenhagen, Denmark. A fabulous choice of destination for Americans to flee if Trump wins the US... https:/...\n",
      "Negative sentiment:  0.0305365966977 Positive sentiment:  0.969463403302\n",
      "RT @JackPMoore: Meryl Streep dressed up like Donald Trump tonight and Christine Baranski loved it. Sometimes the world is perfect. https://...\n",
      "Negative sentiment:  0.0897233642283 Positive sentiment:  0.910276635772\n",
      "RT @JackPMoore: Meryl Streep dressed up like Donald Trump tonight and Christine Baranski loved it. Sometimes the world is perfect. https://...\n",
      "Negative sentiment:  0.0897233642283 Positive sentiment:  0.910276635772\n",
      "Hello pot. Meet kettle  https://t.co/DZQCHaTsdb\n",
      "Negative sentiment:  0.0910646724342 Positive sentiment:  0.908935327566\n",
      "RT @immigrant4trump: VIDEO: Here's Why Trump Will Win Latino Votes #Trump2016 #LatinosForTrump https://t.co/dpFuJKjiUB\n",
      "Negative sentiment:  0.0966763812192 Positive sentiment:  0.903323618781\n",
      "For the 36 bloggers, creativity is a steep climb. They  prefer copy pasting. Now converted Donald Trump's #CrookedHillary to #CrookedRaila\n",
      "Negative sentiment:  0.0811478107658 Positive sentiment:  0.918852189234\n",
      "@screenwriter @FoxNews @HowardKurtz  A Media by the establishment, for the establishment.\n",
      "\n",
      "Hillary's a safe bet for the war profiteers.\n",
      "Negative sentiment:  0.0958014478058 Positive sentiment:  0.904198552194\n",
      "@latimes Hillary is peaceful stable policy.  Trump is a new risky business that may cause unnecessary wars and trade barriers.  Hmmmm\n",
      "Negative sentiment:  0.0789292531723 Positive sentiment:  0.921070746828\n",
      "Indias Leader Ready to Bolster Ties With U.S., Thanks Partly to Donald Trump https://t.co/sRl4zyLUCm via @NYTimes\n",
      "Negative sentiment:  0.075325004745 Positive sentiment:  0.924674995255\n",
      "Hot Video! Megyn Kelly blasts Trump over Mexican judge comments (VIDEO)... https://t.co/vXJrDtCQuw\n",
      "Negative sentiment:  0.0788968279636 Positive sentiment:  0.921103172036\n",
      "Indias Leader Ready to Bolster Ties With U.S., Thanks Partly to Donald Trump - https://t.co/ELundQn1Fp https://t.co/SgdR5w4r4g\n",
      "Negative sentiment:  0.075325004745 Positive sentiment:  0.924674995255\n",
      "RT @JackPMoore: Meryl Streep dressed up like Donald Trump tonight and Christine Baranski loved it. Sometimes the world is perfect. https://...\n",
      "Negative sentiment:  0.0897233642283 Positive sentiment:  0.910276635772\n",
      "RT @Schwarzenegger: Judge Curiel is an American hero who stood up to the Mexican cartels. I was proud to appoint him when I was Gov. https:...\n",
      "Negative sentiment:  0.0424177215223 Positive sentiment:  0.957582278478\n",
      "I love it when data confirms things we already know to be true. Thanks for sharing #intled  https://t.co/EDT4pzFNUQ\n",
      "Negative sentiment:  0.00990190456822 Positive sentiment:  0.990098095432\n",
      "RT @MelissaAmour72: Marco Rubio or Ted Cruz should be the GOP nominee. Props to Rubio for this interview. Choose wisely, RNC delegates!\n",
      "htt...\n",
      "Negative sentiment:  0.0741441608646 Positive sentiment:  0.925855839135\n",
      "Indias Leader Ready to Bolster Ties With U.S., Thanks Partly to Donald Trump: Prime Minister... https://t.co/emqWkDu7Jx #cop15 #climate\n",
      "Negative sentiment:  0.075325004745 Positive sentiment:  0.924674995255\n",
      "RT @FiveRights: Hey NYT, nearly all women say Trump treated them very well.\n",
      "I dare you to ask women how Hillary treated them. https://t.co/...\n",
      "Negative sentiment:  0.0475607076604 Positive sentiment:  0.95243929234\n",
      "RT @JoParkerBear: My new follower calls their account WOMEN VOTING TRUMP! Welcome. Hopefully, we can learn something, like why any woman wo...\n",
      "Negative sentiment:  0.0253945073075 Positive sentiment:  0.974605492693\n",
      "Indias Leader Ready to Bolster Ties With U.S., Thanks Partly to Donald Trump https://t.co/FDI587Ezpa #nytimes\n",
      "Negative sentiment:  0.075325004745 Positive sentiment:  0.924674995255\n",
      "RT @newcivilrights: Watch: CNN Contributor Reads Trump the Riot Act Over Attacks on Judge and It's Amazing https://t.co/72N8iQdEGd #p2 http...\n",
      "Negative sentiment:  0.064939899779 Positive sentiment:  0.935060100221\n",
      "Reporters covering Hillary's campaign pivot to the general by asking her if being so awesome is a burden https://t.co/AYmeCBivEo\n",
      "Negative sentiment:  0.0464081955613 Positive sentiment:  0.953591804439\n",
      "Indias Leader Ready to Bolster Ties With U.S., Thanks Partly to Donald Trump: Prime Minister Narendra Modi i... https://t.co/2h6D91Dxym\n",
      "Negative sentiment:  0.075325004745 Positive sentiment:  0.924674995255\n",
      "Indias Leader Ready to Bolster Ties With U.S., Thanks Partly to Donald Trump: Prime Minister Narendra Modi is expected to approve a ...\n",
      "Negative sentiment:  0.0909753593691 Positive sentiment:  0.909024640631\n",
      "Indias Leader Ready to Bolster Ties With U.S., Thanks Partly to Donald Trump: Prime Minister Narendra Modi i... https://t.co/NLbHlxbdwl\n",
      "Negative sentiment:  0.075325004745 Positive sentiment:  0.924674995255\n",
      "RT @msmitharena: AP calls it for Hillary as presumptive Democratic candidate. So proud of her--she's my hero. Unadulterated joy! https://t....\n",
      "Negative sentiment:  0.0456692631977 Positive sentiment:  0.954330736802\n",
      "Indias Leader Ready to Bolster Ties With U.S., Thanks Partly to Donald Trump https://t.co/UxjQEKkY5i\n",
      "Negative sentiment:  0.075325004745 Positive sentiment:  0.924674995255\n",
      "RT @JackPMoore: Meryl Streep dressed up like Donald Trump tonight and Christine Baranski loved it. Sometimes the world is perfect. https://...\n",
      "Negative sentiment:  0.0897233642283 Positive sentiment:  0.910276635772\n",
      "RT @JackPMoore: Meryl Streep dressed up like Donald Trump tonight and Christine Baranski loved it. Sometimes the world is perfect. https://...\n",
      "Negative sentiment:  0.0897233642283 Positive sentiment:  0.910276635772\n",
      "Indias Leader Ready to Bolster Ties With U.S., Thanks Partly to Donald Trump https://t.co/SxV9PEFMuQ\n",
      "Negative sentiment:  0.075325004745 Positive sentiment:  0.924674995255\n"
     ]
    }
   ],
   "source": [
    "for i in range(len(y_sentiment)):\n",
    "    if(y_sentiment[i,1] >= 0.9):\n",
    "        print new_tweets_list[i]\n",
    "        print 'Negative sentiment: ', y_sentiment[i,0], 'Positive sentiment: ',y_sentiment[i,1]"
   ]
  },
  {
   "cell_type": "code",
   "execution_count": null,
   "metadata": {
    "collapsed": true
   },
   "outputs": [],
   "source": [
    ""
   ]
  },
  {
   "cell_type": "code",
   "execution_count": null,
   "metadata": {
    "collapsed": true
   },
   "outputs": [],
   "source": [
    ""
   ]
  }
 ],
 "metadata": {
  "kernelspec": {
   "display_name": "Python 2",
   "language": "python",
   "name": "python2"
  },
  "language_info": {
   "codemirror_mode": {
    "name": "ipython",
    "version": 2.0
   },
   "file_extension": ".py",
   "mimetype": "text/x-python",
   "name": "python",
   "nbconvert_exporter": "python",
   "pygments_lexer": "ipython2",
   "version": "2.7.11"
  }
 },
 "nbformat": 4,
 "nbformat_minor": 0
}